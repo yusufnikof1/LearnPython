{
  "nbformat": 4,
  "nbformat_minor": 0,
  "metadata": {
    "colab": {
      "provenance": []
    },
    "kernelspec": {
      "name": "python3",
      "display_name": "Python 3"
    },
    "language_info": {
      "name": "python"
    }
  },
  "cells": [
    {
      "cell_type": "code",
      "execution_count": 16,
      "metadata": {
        "colab": {
          "base_uri": "https://localhost:8080/"
        },
        "id": "OEfXGgB35P6S",
        "outputId": "73eb904b-0e6a-4552-f7f0-42a87e4a2cbc"
      },
      "outputs": [
        {
          "output_type": "stream",
          "name": "stdout",
          "text": [
            "Hello World\n",
            "Hello World123\n"
          ]
        }
      ],
      "source": [
        "f = open(\"/content/demofile.txt\")\n",
        "print(f.read())\n",
        "\n",
        "o = open(\"/content/demofile1.txt\")\n",
        "print(o.read())"
      ]
    },
    {
      "cell_type": "code",
      "source": [
        "with open(\"demofile.txt\") as f:\n",
        "  print(f.read())\n",
        "\n",
        "with open(\"demofile1.txt\") as o:\n",
        "  print(o.read())"
      ],
      "metadata": {
        "colab": {
          "base_uri": "https://localhost:8080/"
        },
        "id": "5Ea5hVFm6u0S",
        "outputId": "b2b5083d-3e9e-4914-8c6f-02052c21871c"
      },
      "execution_count": 17,
      "outputs": [
        {
          "output_type": "stream",
          "name": "stdout",
          "text": [
            "Hello World\n",
            "Hello World123\n"
          ]
        }
      ]
    },
    {
      "cell_type": "code",
      "source": [
        "f = open(\"demofile.txt\")\n",
        "print(f.readline())\n",
        "f.close()\n",
        "\n",
        "o = open(\"demofile1.txt\")\n",
        "print(o.readline())\n",
        "o.close()"
      ],
      "metadata": {
        "colab": {
          "base_uri": "https://localhost:8080/"
        },
        "id": "8SR6NzL07SLJ",
        "outputId": "ddc7f952-34eb-42b9-ab56-82952818f182"
      },
      "execution_count": 19,
      "outputs": [
        {
          "output_type": "stream",
          "name": "stdout",
          "text": [
            "Hello World\n",
            "Hello World123\n"
          ]
        }
      ]
    },
    {
      "cell_type": "code",
      "source": [
        "with open(\"demofile.txt\", \"r\") as f:\n",
        "  print(f.read(5))\n",
        "\n",
        "with open(\"demofile.txt\", \"r\") as o:\n",
        "  print(o.read(1))"
      ],
      "metadata": {
        "colab": {
          "base_uri": "https://localhost:8080/"
        },
        "id": "lm7TxvmT7nB9",
        "outputId": "5c488450-b1cb-4c55-d7ef-790bb86b1e09"
      },
      "execution_count": 20,
      "outputs": [
        {
          "output_type": "stream",
          "name": "stdout",
          "text": [
            "Hello\n",
            "H\n"
          ]
        }
      ]
    },
    {
      "cell_type": "code",
      "source": [
        "with open(\"demofile.txt\") as f:\n",
        "  print(f.readline())\n",
        "\n",
        "with open(\"demofile1.txt\") as o:\n",
        "  print(o.readline())"
      ],
      "metadata": {
        "colab": {
          "base_uri": "https://localhost:8080/"
        },
        "id": "kcSYHuNR7wUl",
        "outputId": "ddd8f755-0e81-4d89-a836-9da5655b4755"
      },
      "execution_count": 22,
      "outputs": [
        {
          "output_type": "stream",
          "name": "stdout",
          "text": [
            "Hello World\n",
            "Hello World123\n"
          ]
        }
      ]
    },
    {
      "cell_type": "code",
      "source": [
        "with open(\"demofile.txt\") as f:\n",
        "  print(f.readline())\n",
        "  print(f.readline())\n",
        "\n",
        "with open(\"demofile1.txt\") as o:\n",
        "  print(o.readline())\n",
        "  print(o.readline())"
      ],
      "metadata": {
        "colab": {
          "base_uri": "https://localhost:8080/"
        },
        "id": "b5E5uyew730m",
        "outputId": "74d199ec-62e8-4c89-b145-0fe2950fff40"
      },
      "execution_count": 26,
      "outputs": [
        {
          "output_type": "stream",
          "name": "stdout",
          "text": [
            "Hello World\n",
            "\n",
            "Hello World123\n",
            "\n"
          ]
        }
      ]
    },
    {
      "cell_type": "code",
      "source": [
        "with open(\"demofile.txt\") as f:\n",
        "  for x in f:\n",
        "    print(x)\n",
        "\n",
        "with open(\"demofile1.txt\") as o:\n",
        "  for Y in o:\n",
        "    print(Y)"
      ],
      "metadata": {
        "colab": {
          "base_uri": "https://localhost:8080/"
        },
        "id": "nPQvtVoR8EiX",
        "outputId": "9f827edb-49f6-417a-e543-5a06b87f967f"
      },
      "execution_count": 29,
      "outputs": [
        {
          "output_type": "stream",
          "name": "stdout",
          "text": [
            "Hello World\n",
            "Hello World123\n"
          ]
        }
      ]
    },
    {
      "cell_type": "code",
      "source": [
        "with open(\"demofile.txt\", \"a\") as f:\n",
        "  f.write(\", Now the file has more content!\")\n",
        "\n",
        "#open and read the file after the appending:\n",
        "with open(\"demofile.txt\") as f:\n",
        "  print(f.read())\n",
        "\n",
        "with open(\"demofile1.txt\", \"a\") as o:\n",
        "  o.write(\", Duarrrr\")\n",
        "\n",
        "with open(\"demofile1.txt\") as o:\n",
        "  print(o.read())\n",
        "\n"
      ],
      "metadata": {
        "colab": {
          "base_uri": "https://localhost:8080/"
        },
        "id": "Ci64r_KC8TlA",
        "outputId": "c51d79da-8831-46ac-83f4-2cbfdb873071"
      },
      "execution_count": 33,
      "outputs": [
        {
          "output_type": "stream",
          "name": "stdout",
          "text": [
            "Hello World, Now the file has more content!, Now the file has more content!\n",
            "Hello World123, Duarrrr\n"
          ]
        }
      ]
    },
    {
      "cell_type": "code",
      "source": [
        "with open(\"demofile.txt\", \"w\") as f:\n",
        "  f.write(\"Woops! I have deleted the content!\")\n",
        "\n",
        "#open and read the file after the overwriting:\n",
        "with open(\"demofile.txt\") as f:\n",
        "  print(f.read())\n",
        "\n",
        "with open(\"demofile1.txt\", \"w\") as o:\n",
        "  o.write(\"Lah kok ilang\")\n",
        "\n",
        "with open(\"demofile1.txt\") as o:\n",
        "  print(o.read())"
      ],
      "metadata": {
        "colab": {
          "base_uri": "https://localhost:8080/"
        },
        "id": "-c8Rz0Yz8v68",
        "outputId": "c2428030-f972-4c1b-ee27-dc6feb848542"
      },
      "execution_count": 35,
      "outputs": [
        {
          "output_type": "stream",
          "name": "stdout",
          "text": [
            "Woops! I have deleted the content!\n",
            "Lah kok ilang\n"
          ]
        }
      ]
    },
    {
      "cell_type": "code",
      "source": [
        "f = open(\"demofile2.txt\", \"x\")"
      ],
      "metadata": {
        "id": "Lu_qLWCC9GOL"
      },
      "execution_count": 36,
      "outputs": []
    },
    {
      "cell_type": "code",
      "source": [
        "import os\n",
        "os.remove(\"demofile1.txt\")"
      ],
      "metadata": {
        "id": "gaEuHckc9qW8"
      },
      "execution_count": 40,
      "outputs": []
    },
    {
      "cell_type": "code",
      "source": [
        "import os\n",
        "if os.path.exists(\"demofile.txt\"):\n",
        "  os.remove(\"demofile.txt\")\n",
        "else:\n",
        "  print(\"The file does not exist\")"
      ],
      "metadata": {
        "colab": {
          "base_uri": "https://localhost:8080/"
        },
        "id": "LxuRwyQp-Bdi",
        "outputId": "8e9d7f98-4a29-49d2-e4ab-1d7532b44f6a"
      },
      "execution_count": 41,
      "outputs": [
        {
          "output_type": "stream",
          "name": "stdout",
          "text": [
            "The file does not exist\n"
          ]
        }
      ]
    },
    {
      "cell_type": "code",
      "source": [
        "import os\n",
        "os.rmdir(\"/content/duar\")"
      ],
      "metadata": {
        "id": "aiLMzcL2-ZFG"
      },
      "execution_count": 42,
      "outputs": []
    }
  ]
}