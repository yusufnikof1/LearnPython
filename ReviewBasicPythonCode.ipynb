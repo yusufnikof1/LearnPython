{
  "nbformat": 4,
  "nbformat_minor": 0,
  "metadata": {
    "colab": {
      "provenance": []
    },
    "kernelspec": {
      "name": "python3",
      "display_name": "Python 3"
    },
    "language_info": {
      "name": "python"
    }
  },
  "cells": [
    {
      "cell_type": "code",
      "source": [
        "print(\"Hello World\")"
      ],
      "metadata": {
        "colab": {
          "base_uri": "https://localhost:8080/"
        },
        "id": "6NsEq69lmumm",
        "outputId": "5b0afe71-9c7a-4d07-f1d9-885f81ced2b6"
      },
      "execution_count": 1,
      "outputs": [
        {
          "output_type": "stream",
          "name": "stdout",
          "text": [
            "Hello World\n"
          ]
        }
      ]
    },
    {
      "cell_type": "code",
      "source": [
        "if 5 > 2:\n",
        "  print(\"5 lebih besar dari 2\")"
      ],
      "metadata": {
        "colab": {
          "base_uri": "https://localhost:8080/"
        },
        "id": "yq7j-4sanyU9",
        "outputId": "040465f6-6314-4902-9461-7c629ac5c9fe"
      },
      "execution_count": 2,
      "outputs": [
        {
          "output_type": "stream",
          "name": "stdout",
          "text": [
            "5 lebih besar dari 2\n"
          ]
        }
      ]
    },
    {
      "cell_type": "code",
      "source": [
        "a = \"Angka\"\n",
        "b = 20\n",
        "print (a,b)\n",
        "print (a)\n",
        "print (b)"
      ],
      "metadata": {
        "colab": {
          "base_uri": "https://localhost:8080/"
        },
        "id": "YSwNoyyToPKV",
        "outputId": "90a6ebb5-4869-4bcc-c89e-9035918214cd"
      },
      "execution_count": 3,
      "outputs": [
        {
          "output_type": "stream",
          "name": "stdout",
          "text": [
            "Angka 20\n",
            "Angka\n",
            "20\n"
          ]
        }
      ]
    },
    {
      "cell_type": "code",
      "source": [
        "#Comment\n",
        "print(\"Hello World\")"
      ],
      "metadata": {
        "colab": {
          "base_uri": "https://localhost:8080/"
        },
        "id": "-MaXwmAKosyq",
        "outputId": "f6508578-e60b-4157-deef-54dff423d299"
      },
      "execution_count": 4,
      "outputs": [
        {
          "output_type": "stream",
          "name": "stdout",
          "text": [
            "Hello World\n"
          ]
        }
      ]
    },
    {
      "cell_type": "code",
      "source": [
        "\"\"\"\n",
        "Ini adalah komentar\n",
        "buat kebawah\n",
        "\"\"\"\n",
        "print(\"Hello World\")"
      ],
      "metadata": {
        "colab": {
          "base_uri": "https://localhost:8080/"
        },
        "id": "1Pie-aRlpCaY",
        "outputId": "85555bd9-58bb-4a4e-8112-9079d31eae95"
      },
      "execution_count": 5,
      "outputs": [
        {
          "output_type": "stream",
          "name": "stdout",
          "text": [
            "Hello World\n"
          ]
        }
      ]
    },
    {
      "cell_type": "code",
      "source": [
        "x = str(\"Angka\")\n",
        "y = int(20)\n",
        "z = float(20)\n",
        "print(x)\n",
        "print(y)\n",
        "print(z)\n",
        "print(x,y,z)"
      ],
      "metadata": {
        "colab": {
          "base_uri": "https://localhost:8080/"
        },
        "id": "_d4Dk7UHpx0P",
        "outputId": "4ce06af4-fafd-4985-bf83-7f75bc5a6b3a"
      },
      "execution_count": 6,
      "outputs": [
        {
          "output_type": "stream",
          "name": "stdout",
          "text": [
            "Angka\n",
            "20\n",
            "20.0\n",
            "Angka 20 20.0\n"
          ]
        }
      ]
    },
    {
      "cell_type": "code",
      "source": [
        "x = 5\n",
        "y = \"John\"\n",
        "print(type(x))\n",
        "print(type(y))\n",
        "\n",
        "a = 6\n",
        "y = 8.0\n",
        "print(type(a))\n",
        "print(type(y))"
      ],
      "metadata": {
        "colab": {
          "base_uri": "https://localhost:8080/"
        },
        "id": "B4YHzowxqxtx",
        "outputId": "a8264361-c97d-4345-c812-2f68760f315e"
      },
      "execution_count": 7,
      "outputs": [
        {
          "output_type": "stream",
          "name": "stdout",
          "text": [
            "<class 'int'>\n",
            "<class 'str'>\n",
            "<class 'int'>\n",
            "<class 'float'>\n"
          ]
        }
      ]
    },
    {
      "cell_type": "code",
      "source": [
        "a = 4\n",
        "A = \"Sally\"\n",
        "\n",
        "print(a)\n",
        "print(A)\n",
        "\n",
        "b = 7\n",
        "B = \"Hello\"\n",
        "print(b,B)\n",
        "print(b)\n",
        "print(B)"
      ],
      "metadata": {
        "colab": {
          "base_uri": "https://localhost:8080/"
        },
        "id": "cOosyMJmrHYz",
        "outputId": "a405e2d6-ecee-43ae-8389-84a4a27a7be5"
      },
      "execution_count": 8,
      "outputs": [
        {
          "output_type": "stream",
          "name": "stdout",
          "text": [
            "4\n",
            "Sally\n",
            "7 Hello\n",
            "7\n",
            "Hello\n"
          ]
        }
      ]
    },
    {
      "cell_type": "code",
      "source": [
        "myvar = \"John\"\n",
        "my_var = \"John\"\n",
        "_my_var = \"John\"\n",
        "myVar = \"John\"\n",
        "MYVAR = \"John\"\n",
        "myvar2 = \"John\"\n",
        "\n",
        "\n",
        "print(myvar)\n",
        "print(my_var)\n",
        "print(_my_var)\n",
        "print(myVar)\n",
        "print(MYVAR)\n",
        "print(myvar2)\n",
        "\n",
        "ok_deh = \"Ini\"\n",
        "okdeh = \"Ini\"\n",
        "_ok_deh = \"Ini\"\n",
        "okDeh = \"Ini\"\n",
        "OKDEH = \"Ini\"\n",
        "okdeh1 = \"Ini\"\n",
        "\n",
        "print(ok_deh)\n",
        "print(okdeh)\n",
        "print(_ok_deh)\n",
        "print(okDeh)\n",
        "print(OKDEH)\n",
        "print(okdeh1)"
      ],
      "metadata": {
        "colab": {
          "base_uri": "https://localhost:8080/"
        },
        "id": "Pu1oZZX8sLAE",
        "outputId": "4e2d801b-3e48-40d1-a80a-219c50912376"
      },
      "execution_count": 9,
      "outputs": [
        {
          "output_type": "stream",
          "name": "stdout",
          "text": [
            "John\n",
            "John\n",
            "John\n",
            "John\n",
            "John\n",
            "John\n",
            "Ini\n",
            "Ini\n",
            "Ini\n",
            "Ini\n",
            "Ini\n",
            "Ini\n"
          ]
        }
      ]
    },
    {
      "cell_type": "code",
      "source": [
        "#Camel Case\n",
        "myVariableName = \"John\"\n",
        "\n",
        "#Pascal Case\n",
        "MyVariableName = \"John\"\n",
        "\n",
        "#Snake Case\n",
        "my_variable_name = \"John\"\n",
        "\n",
        "print(myVariableName)\n",
        "print(MyVariableName)\n",
        "print(my_variable_name)"
      ],
      "metadata": {
        "colab": {
          "base_uri": "https://localhost:8080/"
        },
        "id": "mPx2GbBxsSZ5",
        "outputId": "bce65ee0-f447-403c-cba6-dcbd0ae9e39f"
      },
      "execution_count": 10,
      "outputs": [
        {
          "output_type": "stream",
          "name": "stdout",
          "text": [
            "John\n",
            "John\n",
            "John\n"
          ]
        }
      ]
    },
    {
      "cell_type": "code",
      "source": [
        "x, y, z = \"Orange\", \"Banana\", \"Cherry\"\n",
        "\n",
        "print(x)\n",
        "print(y)\n",
        "print(z)\n",
        "\n",
        "a,b,c = \"Ayam\", \"Bebek\", \"Burung\"\n",
        "print(a,b,c)"
      ],
      "metadata": {
        "colab": {
          "base_uri": "https://localhost:8080/"
        },
        "id": "_gs7o-aDsxtr",
        "outputId": "9d507ca3-5d0d-49e7-88b8-5f06aa36e792"
      },
      "execution_count": 11,
      "outputs": [
        {
          "output_type": "stream",
          "name": "stdout",
          "text": [
            "Orange\n",
            "Banana\n",
            "Cherry\n",
            "Ayam Bebek Burung\n"
          ]
        }
      ]
    },
    {
      "cell_type": "code",
      "source": [
        "x = y = z = \"Orange\"\n",
        "\n",
        "print(x)\n",
        "print(y)\n",
        "print(z)\n",
        "\n",
        "a = b = c = \"Buah\"\n",
        "print(a,b,c)"
      ],
      "metadata": {
        "colab": {
          "base_uri": "https://localhost:8080/"
        },
        "id": "aKEGKin5tAhp",
        "outputId": "c2c79149-a917-4f5b-f6cf-bb22a38f68ea"
      },
      "execution_count": 12,
      "outputs": [
        {
          "output_type": "stream",
          "name": "stdout",
          "text": [
            "Orange\n",
            "Orange\n",
            "Orange\n",
            "Buah Buah Buah\n"
          ]
        }
      ]
    },
    {
      "cell_type": "code",
      "source": [
        "fruits = [\"apple\", \"banana\", \"cherry\"]\n",
        "x, y, z = fruits\n",
        "\n",
        "print(x)\n",
        "print(y)\n",
        "print(z)\n",
        "\n",
        "hewan = [\"kucing\", \"bebek\", \"ikan\"]\n",
        "a,b,c = hewan\n",
        "print(a,b,c)"
      ],
      "metadata": {
        "colab": {
          "base_uri": "https://localhost:8080/"
        },
        "id": "_s0XOT5Ltq18",
        "outputId": "f6b08a64-0fe3-4a01-d208-056e12fe6146"
      },
      "execution_count": 13,
      "outputs": [
        {
          "output_type": "stream",
          "name": "stdout",
          "text": [
            "apple\n",
            "banana\n",
            "cherry\n",
            "kucing bebek ikan\n"
          ]
        }
      ]
    },
    {
      "cell_type": "code",
      "source": [
        "x = \"Python \"\n",
        "y = \"is \"\n",
        "z = \"awesome\"\n",
        "print(x + y + z)\n",
        "\n",
        "a = \"Halo\"\n",
        "b = \" Saya\"\n",
        "c = \" Yusuf\"\n",
        "d = \" Niko F\"\n",
        "print(a+b+c+d)\n",
        "\n",
        "o = 1\n",
        "p = 2\n",
        "q = 3\n",
        "print(o+p+q)"
      ],
      "metadata": {
        "id": "sxZCSrljukDT",
        "outputId": "5e89b6bb-eaef-463b-a8a4-6d0ab864bb31",
        "colab": {
          "base_uri": "https://localhost:8080/"
        }
      },
      "execution_count": 14,
      "outputs": [
        {
          "output_type": "stream",
          "name": "stdout",
          "text": [
            "Python is awesome\n",
            "Halo Saya Yusuf Niko F\n",
            "6\n"
          ]
        }
      ]
    },
    {
      "cell_type": "code",
      "source": [
        "x = \"awesome\"\n",
        "\n",
        "def myfunc():\n",
        "  print(\"Python is \" + x)\n",
        "\n",
        "myfunc()\n",
        "\n",
        "\n",
        "a = \"Hello\"\n",
        "b = \" Guys\"\n",
        "\n",
        "def function():\n",
        "\tprint(\"Say \" + a + b)\n",
        "\n",
        "function()"
      ],
      "metadata": {
        "colab": {
          "base_uri": "https://localhost:8080/"
        },
        "id": "j-7hZ2Sypy2g",
        "outputId": "8d489df6-b32b-4128-f38f-cb6380c75e6f"
      },
      "execution_count": 15,
      "outputs": [
        {
          "output_type": "stream",
          "name": "stdout",
          "text": [
            "Python is awesome\n",
            "Say Hello Guys\n"
          ]
        }
      ]
    },
    {
      "cell_type": "code",
      "source": [
        "x = \"awesome\"\n",
        "\n",
        "def myfunc():\n",
        "  x = \"fantastic\"\n",
        "  print(\"Python is \" + x)\n",
        "\n",
        "myfunc()\n",
        "\n",
        "print(\"Python is \" + x)\n",
        "\n",
        "a = \" Program\"\n",
        "\n",
        "def function():\n",
        "  a = \" Python\"\n",
        "  print(\"Hello\" + a)\n",
        "\n",
        "function()\n",
        "\n",
        "print(\"Hello\" + a)\n"
      ],
      "metadata": {
        "colab": {
          "base_uri": "https://localhost:8080/"
        },
        "id": "IMVIjQYcq8fU",
        "outputId": "16180f44-a47c-43b3-be23-ce7e3e088894"
      },
      "execution_count": 16,
      "outputs": [
        {
          "output_type": "stream",
          "name": "stdout",
          "text": [
            "Python is fantastic\n",
            "Python is awesome\n",
            "Hello Python\n",
            "Hello Program\n"
          ]
        }
      ]
    },
    {
      "cell_type": "code",
      "source": [
        "def myfunc():\n",
        "  global x\n",
        "  x = \"fantastic\"\n",
        "\n",
        "myfunc()\n",
        "\n",
        "print(\"Python is \" + x)\n",
        "\n",
        "\n",
        "def function():\n",
        "  global a\n",
        "  a = \" New\"\n",
        "  global b\n",
        "  b = \" World\"\n",
        "\n",
        "function()\n",
        "\n",
        "print(\"Hello\" + a + b)\n"
      ],
      "metadata": {
        "colab": {
          "base_uri": "https://localhost:8080/"
        },
        "id": "CMsiPjdHrhx3",
        "outputId": "bee7360f-67f8-4319-9a46-456c343e7067"
      },
      "execution_count": 17,
      "outputs": [
        {
          "output_type": "stream",
          "name": "stdout",
          "text": [
            "Python is fantastic\n",
            "Hello New World\n"
          ]
        }
      ]
    },
    {
      "cell_type": "code",
      "source": [
        "x = \"awesome\"\n",
        "\n",
        "def myfunc():\n",
        "  global x\n",
        "  x = \"fantastic\"\n",
        "\n",
        "myfunc()\n",
        "\n",
        "print(\"Python is \" + x)\n",
        "\n",
        "a = \"Good\"\n",
        "\n",
        "def myfunc():\n",
        "  global a\n",
        "  a = \"Code\"\n",
        "  global b\n",
        "  b = \" Wars\"\n",
        "\n",
        "myfunc()\n",
        "\n",
        "print(\"This is \" + a + b)"
      ],
      "metadata": {
        "colab": {
          "base_uri": "https://localhost:8080/"
        },
        "id": "cBLBsS9VsFfn",
        "outputId": "51a295a7-44bd-4b3d-a277-a66a97aa931b"
      },
      "execution_count": 18,
      "outputs": [
        {
          "output_type": "stream",
          "name": "stdout",
          "text": [
            "Python is fantastic\n",
            "This is Code Wars\n"
          ]
        }
      ]
    },
    {
      "cell_type": "code",
      "source": [
        "x = 5\n",
        "print(type(x))\n",
        "\n",
        "a = 2\n",
        "print(type(a))\n",
        "\n",
        "b = \"Halo\"\n",
        "print(type(b))"
      ],
      "metadata": {
        "colab": {
          "base_uri": "https://localhost:8080/"
        },
        "id": "ObbUO4xXt3Zd",
        "outputId": "55bc5085-d923-419e-b5f0-270bc8d57b3e"
      },
      "execution_count": 19,
      "outputs": [
        {
          "output_type": "stream",
          "name": "stdout",
          "text": [
            "<class 'int'>\n",
            "<class 'int'>\n",
            "<class 'str'>\n"
          ]
        }
      ]
    },
    {
      "cell_type": "code",
      "source": [
        "x = 20.5\n",
        "\n",
        "#display x:\n",
        "print(x)\n",
        "\n",
        "#display the data type of x:\n",
        "print(type(x))\n",
        "\n",
        "a = 11.325\n",
        "\n",
        "print(a)\n",
        "print(type(a))\n"
      ],
      "metadata": {
        "colab": {
          "base_uri": "https://localhost:8080/"
        },
        "id": "J4qBs4nJuCSj",
        "outputId": "e18464f5-40d9-48af-d887-0c90d7f64e07"
      },
      "execution_count": 20,
      "outputs": [
        {
          "output_type": "stream",
          "name": "stdout",
          "text": [
            "20.5\n",
            "<class 'float'>\n",
            "11.325\n",
            "<class 'float'>\n"
          ]
        }
      ]
    },
    {
      "cell_type": "code",
      "source": [
        "x = 1j\n",
        "\n",
        "#display x:\n",
        "print(x)\n",
        "\n",
        "#display the data type of x:\n",
        "print(type(x))\n",
        "\n",
        "a = 5j\n",
        "\n",
        "print(a)\n",
        "\n",
        "print(type(a))\n"
      ],
      "metadata": {
        "colab": {
          "base_uri": "https://localhost:8080/"
        },
        "id": "KKb-EYnHu-Qi",
        "outputId": "a6ccac33-85c3-4b6f-cd94-b68890838b4b"
      },
      "execution_count": 21,
      "outputs": [
        {
          "output_type": "stream",
          "name": "stdout",
          "text": [
            "1j\n",
            "<class 'complex'>\n",
            "5j\n",
            "<class 'complex'>\n"
          ]
        }
      ]
    },
    {
      "cell_type": "code",
      "source": [
        "x = [\"apple\", \"banana\", \"cherry\"]\n",
        "\n",
        "#display x:\n",
        "print(x)\n",
        "\n",
        "#display the data type of x:\n",
        "print(type(x))\n",
        "\n",
        "a = [\"Pepaya\", \"Mangga\", \"Pisang\", \"Jambu\"]\n",
        "print(a)\n",
        "print(type(a))\n"
      ],
      "metadata": {
        "colab": {
          "base_uri": "https://localhost:8080/"
        },
        "id": "L8N4O6OOvMmu",
        "outputId": "a746bcfb-95bd-4ce3-ebab-f749d01d3481"
      },
      "execution_count": 22,
      "outputs": [
        {
          "output_type": "stream",
          "name": "stdout",
          "text": [
            "['apple', 'banana', 'cherry']\n",
            "<class 'list'>\n",
            "['Pepaya', 'Mangga', 'Pisang', 'Jambu']\n",
            "<class 'list'>\n"
          ]
        }
      ]
    },
    {
      "cell_type": "code",
      "source": [
        "x = (\"apple\", \"banana\", \"cherry\")\n",
        "\n",
        "#display x:\n",
        "print(x)\n",
        "\n",
        "#display the data type of x:\n",
        "print(type(x))\n",
        "\n",
        "a = (\"Pepaya\", \"Mangga\", \"Pisang\", \"Jambu\")\n",
        "print(a)\n",
        "print(type(a))\n"
      ],
      "metadata": {
        "colab": {
          "base_uri": "https://localhost:8080/"
        },
        "id": "Ws-8sqZIv3JT",
        "outputId": "2387fd71-2641-4842-d4fb-6a42711d4d9e"
      },
      "execution_count": 23,
      "outputs": [
        {
          "output_type": "stream",
          "name": "stdout",
          "text": [
            "('apple', 'banana', 'cherry')\n",
            "<class 'tuple'>\n",
            "('Pepaya', 'Mangga', 'Pisang', 'Jambu')\n",
            "<class 'tuple'>\n"
          ]
        }
      ]
    },
    {
      "cell_type": "code",
      "source": [
        "x = range(6)\n",
        "\n",
        "#display x:\n",
        "print(x)\n",
        "\n",
        "#display the data type of x:\n",
        "print(type(x))\n",
        "\n",
        "\n",
        "a = range(10)\n",
        "print(a)\n",
        "print(type(a))\n",
        "\n",
        "b = range(2,9)\n",
        "print(b)\n",
        "print(type(b))\n"
      ],
      "metadata": {
        "colab": {
          "base_uri": "https://localhost:8080/"
        },
        "id": "XsHgBoHZwFUc",
        "outputId": "324d4ae0-219c-4967-bf96-dfd25dd70075"
      },
      "execution_count": 24,
      "outputs": [
        {
          "output_type": "stream",
          "name": "stdout",
          "text": [
            "range(0, 6)\n",
            "<class 'range'>\n",
            "range(0, 10)\n",
            "<class 'range'>\n",
            "range(2, 9)\n",
            "<class 'range'>\n"
          ]
        }
      ]
    },
    {
      "cell_type": "code",
      "source": [
        "x = {\"name\" : \"John\", \"age\" : 36}\n",
        "\n",
        "#display x:\n",
        "print(x)\n",
        "\n",
        "#display the data type of x:\n",
        "print(type(x))\n",
        "\n",
        "a = {\"nama\" : \"Yusuf\", \"age\" : 22}\n",
        "print(a)\n",
        "print(type(a))"
      ],
      "metadata": {
        "colab": {
          "base_uri": "https://localhost:8080/"
        },
        "id": "zw69CeFOwe2a",
        "outputId": "3d86beb5-1f83-443b-8f95-7025af793b53"
      },
      "execution_count": 25,
      "outputs": [
        {
          "output_type": "stream",
          "name": "stdout",
          "text": [
            "{'name': 'John', 'age': 36}\n",
            "<class 'dict'>\n",
            "{'nama': 'Yusuf', 'age': 22}\n",
            "<class 'dict'>\n"
          ]
        }
      ]
    },
    {
      "cell_type": "code",
      "source": [
        "x = {\"apple\", \"banana\", \"cherry\"}\n",
        "\n",
        "#display x:\n",
        "print(x)\n",
        "\n",
        "#display the data type of x:\n",
        "print(type(x))\n",
        "\n",
        "a = {\"Pepaya\", \"Mangga\", \"Pisang\", \"Jambu\"}\n",
        "print(a)\n",
        "print(type(a))\n"
      ],
      "metadata": {
        "colab": {
          "base_uri": "https://localhost:8080/"
        },
        "id": "U5CxpwxNwrvg",
        "outputId": "ce9dc9bb-d420-4290-fdd2-f4bfcffd21d6"
      },
      "execution_count": 26,
      "outputs": [
        {
          "output_type": "stream",
          "name": "stdout",
          "text": [
            "{'banana', 'cherry', 'apple'}\n",
            "<class 'set'>\n",
            "{'Pepaya', 'Mangga', 'Jambu', 'Pisang'}\n",
            "<class 'set'>\n"
          ]
        }
      ]
    },
    {
      "cell_type": "code",
      "source": [
        "x = frozenset({\"apple\", \"banana\", \"cherry\"})\n",
        "\n",
        "#display x:\n",
        "print(x)\n",
        "\n",
        "#display the data type of x:\n",
        "print(type(x))\n",
        "\n",
        "a = frozenset({\"Pepaya\", \"Mangga\", \"Pisang\", \"Jambu\"})\n",
        "print(a)\n",
        "print(type(a))"
      ],
      "metadata": {
        "colab": {
          "base_uri": "https://localhost:8080/"
        },
        "id": "rIe3JNfdxBn2",
        "outputId": "3e9ae426-075f-4672-8f18-155cfe0e60b1"
      },
      "execution_count": 27,
      "outputs": [
        {
          "output_type": "stream",
          "name": "stdout",
          "text": [
            "frozenset({'banana', 'cherry', 'apple'})\n",
            "<class 'frozenset'>\n",
            "frozenset({'Pepaya', 'Mangga', 'Jambu', 'Pisang'})\n",
            "<class 'frozenset'>\n"
          ]
        }
      ]
    },
    {
      "cell_type": "code",
      "source": [
        "x = True\n",
        "\n",
        "#display x:\n",
        "print(x)\n",
        "\n",
        "#display the data type of x:\n",
        "print(type(x))\n",
        "\n",
        "a = False\n",
        "print(a)\n",
        "print(type(a))"
      ],
      "metadata": {
        "colab": {
          "base_uri": "https://localhost:8080/"
        },
        "id": "EacRIAdnxJsF",
        "outputId": "614f48e5-96e9-44d6-c24c-837a300732fe"
      },
      "execution_count": 28,
      "outputs": [
        {
          "output_type": "stream",
          "name": "stdout",
          "text": [
            "True\n",
            "<class 'bool'>\n",
            "False\n",
            "<class 'bool'>\n"
          ]
        }
      ]
    },
    {
      "cell_type": "code",
      "source": [
        "x = b\"Hello\"\n",
        "\n",
        "#display x:\n",
        "print(x)\n",
        "\n",
        "#display the data type of x:\n",
        "print(type(x))\n",
        "\n",
        "a = b\"World\"\n",
        "print(a)\n",
        "print(type(a))"
      ],
      "metadata": {
        "colab": {
          "base_uri": "https://localhost:8080/"
        },
        "id": "mfdNL5dExqSP",
        "outputId": "3caccb69-cf59-4de5-db5a-956de492548a"
      },
      "execution_count": 29,
      "outputs": [
        {
          "output_type": "stream",
          "name": "stdout",
          "text": [
            "b'Hello'\n",
            "<class 'bytes'>\n",
            "b'World'\n",
            "<class 'bytes'>\n"
          ]
        }
      ]
    },
    {
      "cell_type": "code",
      "source": [
        "x = bytearray(5)\n",
        "\n",
        "#display x:\n",
        "print(x)\n",
        "\n",
        "#display the data type of x:\n",
        "print(type(x))\n",
        "\n",
        "a = bytearray(3)\n",
        "print(a)\n",
        "print(type(a))"
      ],
      "metadata": {
        "colab": {
          "base_uri": "https://localhost:8080/"
        },
        "id": "oMgyp1uux0y8",
        "outputId": "3f5c420c-94fc-47e0-8685-33eaf5cb617e"
      },
      "execution_count": 30,
      "outputs": [
        {
          "output_type": "stream",
          "name": "stdout",
          "text": [
            "bytearray(b'\\x00\\x00\\x00\\x00\\x00')\n",
            "<class 'bytearray'>\n",
            "bytearray(b'\\x00\\x00\\x00')\n",
            "<class 'bytearray'>\n"
          ]
        }
      ]
    },
    {
      "cell_type": "code",
      "source": [
        "x = memoryview(bytes(5))\n",
        "\n",
        "#display x:\n",
        "print(x)\n",
        "\n",
        "#display the data type of x:\n",
        "print(type(x))\n",
        "\n",
        "a = memoryview(bytes(3))\n",
        "print(a)\n",
        "print(type(a))"
      ],
      "metadata": {
        "colab": {
          "base_uri": "https://localhost:8080/"
        },
        "id": "1TwRoBzNyJ59",
        "outputId": "4f090d25-f077-4d54-cfd8-ce9acbbfa539"
      },
      "execution_count": 31,
      "outputs": [
        {
          "output_type": "stream",
          "name": "stdout",
          "text": [
            "<memory at 0x79695a067940>\n",
            "<class 'memoryview'>\n",
            "<memory at 0x79695a067a00>\n",
            "<class 'memoryview'>\n"
          ]
        }
      ]
    },
    {
      "cell_type": "code",
      "source": [
        "x = None\n",
        "\n",
        "#display x:\n",
        "print(x)\n",
        "\n",
        "#display the data type of x:\n",
        "print(type(x))\n",
        "\n",
        "a = None\n",
        "print(a)\n",
        "print(type(a))\n"
      ],
      "metadata": {
        "colab": {
          "base_uri": "https://localhost:8080/"
        },
        "id": "8RTbZJw1ycBY",
        "outputId": "517c607b-c8c3-4fb1-c866-64abed9a736a"
      },
      "execution_count": 32,
      "outputs": [
        {
          "output_type": "stream",
          "name": "stdout",
          "text": [
            "None\n",
            "<class 'NoneType'>\n",
            "None\n",
            "<class 'NoneType'>\n"
          ]
        }
      ]
    },
    {
      "cell_type": "code",
      "source": [
        "x = 1\n",
        "y = 2.8\n",
        "z = 1j\n",
        "\n",
        "print(type(x))\n",
        "print(type(y))\n",
        "print(type(z))\n",
        "\n",
        "a = 2\n",
        "b = \"Hello\"\n",
        "c = b\"YOLO\"\n",
        "\n",
        "print(type(a))\n",
        "print(type(b))\n",
        "print(type(c))\n"
      ],
      "metadata": {
        "colab": {
          "base_uri": "https://localhost:8080/"
        },
        "id": "sO7FfuXFzb4K",
        "outputId": "a06b1406-e96b-4a60-958f-9d9f0daf7a12"
      },
      "execution_count": 33,
      "outputs": [
        {
          "output_type": "stream",
          "name": "stdout",
          "text": [
            "<class 'int'>\n",
            "<class 'float'>\n",
            "<class 'complex'>\n",
            "<class 'int'>\n",
            "<class 'str'>\n",
            "<class 'bytes'>\n"
          ]
        }
      ]
    },
    {
      "cell_type": "code",
      "source": [
        "x = 1\n",
        "y = 35656222554887711\n",
        "z = -3255522\n",
        "\n",
        "print(type(x))\n",
        "print(type(y))\n",
        "print(type(z))\n",
        "\n",
        "A = 2131231231\n",
        "B = -3213213213\n",
        "C = 111111111\n",
        "print(type(A))\n",
        "print(type(B))\n",
        "print(type(C))\n"
      ],
      "metadata": {
        "colab": {
          "base_uri": "https://localhost:8080/"
        },
        "id": "GgqgeOfw0OLu",
        "outputId": "b9b909ee-d7db-4447-e70c-a68424fd8fef"
      },
      "execution_count": 34,
      "outputs": [
        {
          "output_type": "stream",
          "name": "stdout",
          "text": [
            "<class 'int'>\n",
            "<class 'int'>\n",
            "<class 'int'>\n",
            "<class 'int'>\n",
            "<class 'int'>\n",
            "<class 'int'>\n"
          ]
        }
      ]
    },
    {
      "cell_type": "code",
      "source": [
        "x = 1.10\n",
        "y = 1.0\n",
        "z = -35.59\n",
        "\n",
        "print(type(x))\n",
        "print(type(y))\n",
        "print(type(z))\n",
        "\n",
        "a = 1.1123131\n",
        "b = -13.123142\n",
        "c = 223.121241\n",
        "\n",
        "print(type(a))\n",
        "print(type(b))\n",
        "print(type(c))"
      ],
      "metadata": {
        "colab": {
          "base_uri": "https://localhost:8080/"
        },
        "id": "a8Rd1-OO0Pgn",
        "outputId": "daba64d4-7ab1-4250-fab2-2a48a8d268c7"
      },
      "execution_count": 35,
      "outputs": [
        {
          "output_type": "stream",
          "name": "stdout",
          "text": [
            "<class 'float'>\n",
            "<class 'float'>\n",
            "<class 'float'>\n",
            "<class 'float'>\n",
            "<class 'float'>\n",
            "<class 'float'>\n"
          ]
        }
      ]
    },
    {
      "cell_type": "code",
      "source": [
        "x = 35e3\n",
        "y = 12E4\n",
        "z = -87.7e100\n",
        "\n",
        "print(type(x))\n",
        "print(type(y))\n",
        "print(type(z))\n",
        "\n",
        "a = 20e4\n",
        "b = 30E10\n",
        "c = -992.9e1\n",
        "\n",
        "print(type(a))\n",
        "print(type(b))\n",
        "print(type(c))\n"
      ],
      "metadata": {
        "colab": {
          "base_uri": "https://localhost:8080/"
        },
        "id": "UPlNFTSv0u2w",
        "outputId": "b6466b22-68c5-4015-b524-7d662b0c748f"
      },
      "execution_count": 36,
      "outputs": [
        {
          "output_type": "stream",
          "name": "stdout",
          "text": [
            "<class 'float'>\n",
            "<class 'float'>\n",
            "<class 'float'>\n",
            "<class 'float'>\n",
            "<class 'float'>\n",
            "<class 'float'>\n"
          ]
        }
      ]
    },
    {
      "cell_type": "code",
      "source": [
        "x = 3+5j\n",
        "y = 5j\n",
        "z = -5j\n",
        "\n",
        "print(type(x))\n",
        "print(type(y))\n",
        "print(type(z))\n",
        "\n",
        "a = 3 + 10j\n",
        "b = 5 -4j\n",
        "c = -7j\n",
        "\n",
        "print(type(a))\n",
        "print(type(b))\n",
        "print(type(c))\n"
      ],
      "metadata": {
        "colab": {
          "base_uri": "https://localhost:8080/"
        },
        "id": "65FarzDJ1B_J",
        "outputId": "532e7e48-53cd-4f39-ab33-3796ec565fef"
      },
      "execution_count": 37,
      "outputs": [
        {
          "output_type": "stream",
          "name": "stdout",
          "text": [
            "<class 'complex'>\n",
            "<class 'complex'>\n",
            "<class 'complex'>\n",
            "<class 'complex'>\n",
            "<class 'complex'>\n",
            "<class 'complex'>\n"
          ]
        }
      ]
    },
    {
      "cell_type": "code",
      "source": [
        "x = 1    # int\n",
        "y = 2.8  # float\n",
        "z = 3   # complex\n",
        "\n",
        "#convert from int to float:\n",
        "x = float(1)\n",
        "\n",
        "#convert from float to int:\n",
        "y = int(2.8)\n",
        "\n",
        "#convert from int to complex:\n",
        "z = complex(3)\n",
        "\n",
        "print(x)\n",
        "print(y)\n",
        "print(z)\n",
        "\n",
        "print(type(x))\n",
        "print(type(y))\n",
        "print(type(z))\n",
        "\n",
        "a = 2.3231321\n",
        "b = 5\n",
        "c = 3.213123\n",
        "\n",
        "d = float(a)\n",
        "e = str(b)\n",
        "f = complex(c)\n",
        "\n",
        "print(d)\n",
        "print(e)\n",
        "print(f)\n",
        "print(type(d))\n",
        "print(type(e))\n",
        "print(type(f))"
      ],
      "metadata": {
        "colab": {
          "base_uri": "https://localhost:8080/"
        },
        "id": "P5b3mdrM2WJd",
        "outputId": "39976e9a-62b3-4780-c5d2-804cbc1d43c5"
      },
      "execution_count": 38,
      "outputs": [
        {
          "output_type": "stream",
          "name": "stdout",
          "text": [
            "1.0\n",
            "2\n",
            "(3+0j)\n",
            "<class 'float'>\n",
            "<class 'int'>\n",
            "<class 'complex'>\n",
            "2.3231321\n",
            "5\n",
            "(3.213123+0j)\n",
            "<class 'float'>\n",
            "<class 'str'>\n",
            "<class 'complex'>\n"
          ]
        }
      ]
    },
    {
      "cell_type": "code",
      "source": [
        "import random\n",
        "\n",
        "print(random.randrange(1, 10))\n",
        "\n",
        "print(random.randrange(0,20))"
      ],
      "metadata": {
        "colab": {
          "base_uri": "https://localhost:8080/"
        },
        "id": "rzhut9M94dHZ",
        "outputId": "3d93bdb1-0bf4-4622-d648-c7b123ead4e2"
      },
      "execution_count": 39,
      "outputs": [
        {
          "output_type": "stream",
          "name": "stdout",
          "text": [
            "7\n",
            "19\n"
          ]
        }
      ]
    }
  ]
}